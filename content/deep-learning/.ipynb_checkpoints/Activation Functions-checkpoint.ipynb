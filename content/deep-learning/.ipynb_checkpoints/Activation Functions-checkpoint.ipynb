{
 "cells": [
  {
   "cell_type": "markdown",
   "metadata": {},
   "source": [
    "Deep Learning activation functions examined below: \n",
    "1. ReLU\n",
    "2. Leaky ReLU\n",
    "3. sigmoid\n",
    "4. tanh"
   ]
  },
  {
   "cell_type": "markdown",
   "metadata": {},
   "source": [
    "### Activation plotting pleminaries"
   ]
  },
  {
   "cell_type": "code",
   "execution_count": 6,
   "metadata": {
    "collapsed": true
   },
   "outputs": [],
   "source": [
    "import matplotlib.pyplot as plt\n",
    "import numpy as np\n",
    "%matplotlib inline\n",
    "\n",
    "#Create array of possible z values\n",
    "z = np.linspace(-5,5,num=1000)\n",
    "\n",
    "def draw_activation_plot(a,quadrants=2,y_ticks=[0],two_quad_y_lim=[0,5], four_quad_y_lim=[-1,1]): \n",
    "    \"\"\"\n",
    "    Draws plot of activation function\n",
    "   \n",
    "    Parameters\n",
    "    ----------\n",
    "    a : Output of activation function over domain z.\n",
    "    \n",
    "    quadrants: The number of quadrants in the plot (options: 2 or 4)\n",
    "    \n",
    "    y_ticks: Ticks to show on the y-axis.\n",
    "    \n",
    "    two_quad_y_lim: The limit of the y axis for 2 quadrant plots.\n",
    "    \n",
    "    four_quad_y_lim: The limit of the y axis for 4 quadrant plots.\n",
    "    \n",
    "    \"\"\"\n",
    "    #Create figure and axis\n",
    "    fig = plt.figure()\n",
    "    ax = fig.add_subplot(1, 1, 1)\n",
    "\n",
    "    #Move left axis  \n",
    "    ax.spines['left'].set_position('center')\n",
    "    \n",
    "    #Remove top and right axes\n",
    "    ax.spines['right'].set_color('none')\n",
    "    ax.spines['top'].set_color('none')\n",
    "\n",
    "    #Set x and y labels\n",
    "    plt.xlabel('z')\n",
    "    plt.ylabel('a')\n",
    "    \n",
    "    #Set ticks\n",
    "    plt.xticks([])\n",
    "    plt.yticks(y_ticks)\n",
    "    \n",
    "    #Set ylim\n",
    "    plt.ylim(two_quad_y_lim)\n",
    "    \n",
    "    #4 Quadrant conditions\n",
    "    if quadrants==4:\n",
    "        #Move up bottom axis\n",
    "        ax.spines['bottom'].set_position('center')\n",
    "        \n",
    "        #Move x and y labels for readability\n",
    "        ax.yaxis.set_label_coords(.48,.75)\n",
    "        ax.xaxis.set_label_coords(.75,.48)\n",
    "        \n",
    "        ##Set y_lim for 4 quadrant graphs\n",
    "        plt.ylim(four_quad_y_lim)\n",
    "\n",
    "    #Plot z vs. activation function\n",
    "    plt.plot(z,a);"
   ]
  },
  {
   "cell_type": "markdown",
   "metadata": {},
   "source": [
    "## 1. ReLU\n",
    "A great default choice for hidden layers. It is frequently used in industry and is almost always adequete to solve a problem.\n",
    "\n",
    "Although this graph is not differentiable at z=0, it is not usually a problem in practice since an exact value of 0 is rare. The derivative at z=0 can usually be set to 0 or 1 without a problem."
   ]
  },
  {
   "cell_type": "code",
   "execution_count": 2,
   "metadata": {
    "scrolled": true
   },
   "outputs": [
    {
     "data": {
      "image/png": "[encoded data removed]",
      "text/plain": [
       "<matplotlib.figure.Figure at 0x1e76ad08438>"
      ]
     },
     "metadata": {},
     "output_type": "display_data"
    }
   ],
   "source": [
    "relu = np.maximum(z,0)\n",
    "\n",
    "draw_activation_plot(relu)"
   ]
  },
  {
   "cell_type": "markdown",
   "metadata": {},
   "source": [
    "## 2. Leaky ReLU\n",
    "Can be better than ReLU, but it is used less often in practice. \n",
    "\n",
    "It provides a differentiable point at 0 to address the concern mentioned above."
   ]
  },
  {
   "cell_type": "code",
   "execution_count": 3,
   "metadata": {},
   "outputs": [
    {
     "data": {
      "image/png": "[encoded data removed]",
      "text/plain": [
       "<matplotlib.figure.Figure at 0x1e76cf596a0>"
      ]
     },
     "metadata": {},
     "output_type": "display_data"
    }
   ],
   "source": [
    "leaky_ReLU = np.maximum(0.01*z,z)\n",
    "\n",
    "draw_activation_plot(leaky_ReLU)"
   ]
  },
  {
   "cell_type": "markdown",
   "metadata": {},
   "source": [
    "## 3. sigmoid \n",
    "Almost never used except in output layer when dealing with binary classification. It's most useful feature is that it guarentees an output between 0 and 1.\n",
    "\n",
    "However, when z is very small or very large, the derivative of the sigmoid function is very small which can slow down gradient descent."
   ]
  },
  {
   "cell_type": "code",
   "execution_count": 4,
   "metadata": {},
   "outputs": [
    {
     "data": {
      "image/png": "[encoded data removed]",
      "text/plain": [
       "<matplotlib.figure.Figure at 0x1e76cff4ef0>"
      ]
     },
     "metadata": {},
     "output_type": "display_data"
    }
   ],
   "source": [
    "sigmoid = 1/(1+np.exp(-z))\n",
    "\n",
    "draw_activation_plot(sigmoid,y_ticks=[0,1], two_quad_y_lim=[0,1])"
   ]
  },
  {
   "cell_type": "markdown",
   "metadata": {},
   "source": [
    "## 4. tanh\n",
    "This is essentially a shifted version of the sigmoid function which is usually strictly better. The mean of activations is closer to 0 which makes training on centered data easier. tanh is also a great default choice for hidden layers."
   ]
  },
  {
   "cell_type": "code",
   "execution_count": 5,
   "metadata": {},
   "outputs": [
    {
     "data": {
      "image/png": "[encoded data removed]",
      "text/plain": [
       "<matplotlib.figure.Figure at 0x1e76d0687f0>"
      ]
     },
     "metadata": {},
     "output_type": "display_data"
    }
   ],
   "source": [
    "tanh = (np.exp(z)-np.exp(-z))/(np.exp(z)+np.exp(-z))\n",
    "\n",
    "draw_activation_plot(tanh,y_ticks=[-1,0,1],quadrants=4)"
   ]
  }
 ],
 "metadata": {
  "kernelspec": {
   "display_name": "Python 3",
   "language": "python",
   "name": "python3"
  },
  "language_info": {
   "codemirror_mode": {
    "name": "ipython",
    "version": 3
   },
   "file_extension": ".py",
   "mimetype": "text/x-python",
   "name": "python",
   "nbconvert_exporter": "python",
   "pygments_lexer": "ipython3",
   "version": "3.6.1"
  }
 },
 "nbformat": 4,
 "nbformat_minor": 2
}
