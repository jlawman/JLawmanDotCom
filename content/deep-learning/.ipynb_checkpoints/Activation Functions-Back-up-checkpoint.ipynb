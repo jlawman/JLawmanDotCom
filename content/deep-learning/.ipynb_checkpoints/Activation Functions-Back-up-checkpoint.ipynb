{
 "cells": [
  {
   "cell_type": "markdown",
   "metadata": {},
   "source": [
    "Deep Learning activation functions examined below include ReLU, Leaky ReLU Sigmoid, tanh"
   ]
  },
  {
   "cell_type": "code",
   "execution_count": 19,
   "metadata": {
    "collapsed": true
   },
   "outputs": [],
   "source": [
    "import matplotlib.pyplot as plt\n",
    "import numpy as np\n",
    "%matplotlib inline\n",
    "z = np.linspace(-5,5,num=1000)"
   ]
  },
  {
   "cell_type": "markdown",
   "metadata": {},
   "source": [
    "### Create plot drawing function"
   ]
  },
  {
   "cell_type": "code",
   "execution_count": 32,
   "metadata": {
    "collapsed": true
   },
   "outputs": [],
   "source": [
    "def draw_activation_plot(a,quadrants=2,y_ticks=[0],y_lim=[0,5]):     \n",
    "    #Create figure and axis\n",
    "    fig = plt.figure()\n",
    "    ax = fig.add_subplot(1, 1, 1)\n",
    "\n",
    "    #Move left axis  \n",
    "    ax.spines['left'].set_position('center')\n",
    "    \n",
    "\n",
    "    # Remove top and right axes\n",
    "    ax.spines['right'].set_color('none')\n",
    "    ax.spines['top'].set_color('none')\n",
    "\n",
    "    #Set x and y labels\n",
    "    plt.xlabel('z')\n",
    "    plt.ylabel('a')\n",
    "    \n",
    "    #Set ticks\n",
    "    plt.xticks([])\n",
    "    plt.yticks(y_ticks)\n",
    "    \n",
    "    #Set ylim\n",
    "    plt.ylim(y_lim)\n",
    "    \n",
    "    #4 Quadrant conditions\n",
    "    if quadrants==4:\n",
    "        #Move bottom axis\n",
    "        ax.spines['bottom'].set_position('center')\n",
    "        #Move x and y labels\n",
    "        ax.yaxis.set_label_coords(.48,.75)\n",
    "        ax.xaxis.set_label_coords(.75,.48)\n",
    "\n",
    "\n",
    "\n",
    "    plt.plot(z,a);"
   ]
  },
  {
   "cell_type": "markdown",
   "metadata": {},
   "source": [
    "## ReLU\n",
    "Great default choice for hidden layers. It is frequently used in industry and is almost always adequete to solve a problem."
   ]
  },
  {
   "cell_type": "code",
   "execution_count": 33,
   "metadata": {},
   "outputs": [
    {
     "data": {
      "image/png": "[encoded data removed]",
      "text/plain": [
       "<matplotlib.figure.Figure at 0x264b98dfa90>"
      ]
     },
     "metadata": {},
     "output_type": "display_data"
    }
   ],
   "source": [
    "relu = np.maximum(z,0)\n",
    "draw_activation_plot(relu)"
   ]
  },
  {
   "cell_type": "code",
   "execution_count": 20,
   "metadata": {},
   "outputs": [
    {
     "data": {
      "image/png": "[encoded data removed]",
      "text/plain": [
       "<matplotlib.figure.Figure at 0x264b998add8>"
      ]
     },
     "metadata": {},
     "output_type": "display_data"
    }
   ],
   "source": [
    "def draw_2_quad_plot(a):     \n",
    "    #Create figure and axis\n",
    "    fig = plt.figure()\n",
    "    ax = fig.add_subplot(1, 1, 1)\n",
    "\n",
    "    #Move bottom and left axes\n",
    "    ax.spines['left'].set_position('center')\n",
    "    #ax.spines['bottom'].set_position('center')\n",
    "\n",
    "    # Remove top and right axes\n",
    "    ax.spines['right'].set_color('none')\n",
    "    ax.spines['top'].set_color('none')\n",
    "\n",
    "    #Set x and y labels\n",
    "    plt.xlabel('z')\n",
    "    plt.ylabel('a')\n",
    "\n",
    "    #Set ticks\n",
    "    plt.xticks([])\n",
    "    plt.yticks([0])\n",
    "    \n",
    "    plt.ylim([0,5])\n",
    "\n",
    "    plt.plot(z,a);\n",
    "\n",
    "relu = np.maximum(z,0)\n",
    "draw_2_quad_plot(relu)"
   ]
  },
  {
   "cell_type": "markdown",
   "metadata": {},
   "source": [
    "## Leaky ReLU\n",
    "Can help by providing differentiable point at 0."
   ]
  },
  {
   "cell_type": "code",
   "execution_count": 24,
   "metadata": {},
   "outputs": [
    {
     "data": {
      "image/png": "[encoded data removed]",
      "text/plain": [
       "<matplotlib.figure.Figure at 0x264b9205da0>"
      ]
     },
     "metadata": {},
     "output_type": "display_data"
    }
   ],
   "source": [
    "leaky_ReLU = np.maximum(0.01*z,z)\n",
    "\n",
    "draw_4_quad_plot(tanh)"
   ]
  },
  {
   "cell_type": "markdown",
   "metadata": {},
   "source": [
    "## tanh\n",
    "Usually strictly better than sigmoid"
   ]
  },
  {
   "cell_type": "code",
   "execution_count": 23,
   "metadata": {},
   "outputs": [
    {
     "data": {
      "image/png": "[encoded data removed]",
      "text/plain": [
       "<matplotlib.figure.Figure at 0x264b96fb128>"
      ]
     },
     "metadata": {},
     "output_type": "display_data"
    }
   ],
   "source": [
    "def draw_4_quad_plot(a):     \n",
    "    #Create figure and axis\n",
    "    fig = plt.figure()\n",
    "    ax = fig.add_subplot(1, 1, 1)\n",
    "\n",
    "    #Move bottom and left axes\n",
    "    ax.spines['left'].set_position('center')\n",
    "    ax.spines['bottom'].set_position('center')\n",
    "\n",
    "    # Remove top and right axes\n",
    "    ax.spines['right'].set_color('none')\n",
    "    ax.spines['top'].set_color('none')\n",
    "\n",
    "    #Set x and y labels\n",
    "    plt.xlabel('z')\n",
    "    plt.ylabel('a')\n",
    "\n",
    "    #Move x and y labels\n",
    "    ax.yaxis.set_label_coords(.48,.75)\n",
    "    ax.xaxis.set_label_coords(.75,.48)\n",
    "\n",
    "    #Set ticks\n",
    "    plt.xticks([])\n",
    "    plt.yticks([-1,0,1])\n",
    "\n",
    "    plt.plot(z,a);\n",
    "\n",
    "tanh = (np.exp(z)-np.exp(-z))/(np.exp(z)+np.exp(-z))\n",
    "draw_4_quad_plot(tanh)"
   ]
  },
  {
   "cell_type": "markdown",
   "metadata": {},
   "source": [
    "## sigmoid \n",
    "Almost never used except in output layer when dealing with binary classification."
   ]
  },
  {
   "cell_type": "code",
   "execution_count": 21,
   "metadata": {},
   "outputs": [
    {
     "data": {
      "image/png": "[encoded data removed]",
      "text/plain": [
       "<matplotlib.figure.Figure at 0x264b996eac8>"
      ]
     },
     "metadata": {},
     "output_type": "display_data"
    }
   ],
   "source": [
    "sigmoid = 1/(1+np.exp(-z))\n",
    "\n",
    "draw_2_quad_plot(sigmoid)"
   ]
  },
  {
   "cell_type": "code",
   "execution_count": null,
   "metadata": {
    "collapsed": true
   },
   "outputs": [],
   "source": []
  },
  {
   "cell_type": "code",
   "execution_count": 72,
   "metadata": {},
   "outputs": [
    {
     "data": {
      "image/png": "[encoded data removed]",
      "text/plain": [
       "<matplotlib.figure.Figure at 0x21cbe65aef0>"
      ]
     },
     "metadata": {},
     "output_type": "display_data"
    }
   ],
   "source": [
    "\n",
    "\n",
    "#Create z and sigma\n",
    "\n",
    "sigma = 1/(1+np.exp(-z))\n",
    "\n",
    "#Draw prediction cut-off line\n",
    "plt.axhline(0.5, color='black',ls='--')\n",
    "\n",
    "#Label axis\n",
    "plt.xlabel('z')\n",
    "plt.ylabel(r'$\\hat{y}$')\n",
    "\n",
    "#Plot graph\n",
    "plt.tick_params(axis='x',bottom='off',labelbottom='off')\n",
    "plt.plot(z,sigma,'-',lw=3);"
   ]
  },
  {
   "cell_type": "code",
   "execution_count": null,
   "metadata": {
    "collapsed": true
   },
   "outputs": [],
   "source": []
  }
 ],
 "metadata": {
  "kernelspec": {
   "display_name": "Python 3",
   "language": "python",
   "name": "python3"
  },
  "language_info": {
   "codemirror_mode": {
    "name": "ipython",
    "version": 3
   },
   "file_extension": ".py",
   "mimetype": "text/x-python",
   "name": "python",
   "nbconvert_exporter": "python",
   "pygments_lexer": "ipython3",
   "version": "3.6.1"
  }
 },
 "nbformat": 4,
 "nbformat_minor": 2
}
