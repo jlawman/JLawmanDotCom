{
 "cells": [
  {
   "cell_type": "markdown",
   "metadata": {},
   "source": [
    "I have recently started DeepLearning.AI's courses. Here are my notes from the second week (Neural Networks Basics) from the first course. I hope you find them helpful.\n",
    "\n",
    "Apologies for the pdf format. I am having a hard time getting the LaTeX to render on my site. I hope to fix this soon."
   ]
  },
  {
   "cell_type": "markdown",
   "metadata": {},
   "source": [
    "## I. Logistic Regression"
   ]
  },
  {
   "cell_type": "markdown",
   "metadata": {},
   "source": [
    "### Logistic Regression Formula\n",
    "\n",
    "Given x where $x \\in {\\rm I\\!R}^{n_{x}}$, \n",
    "\n",
    "We want $\\hat{y} = P(y=1| x)$\n",
    " \n",
    "---\n",
    " \n",
    "Parameters:\n",
    "$w \\in {\\rm I\\!R}^{n_{x}}$\n",
    "$b \\in {\\rm I\\!R}$\n",
    "\n",
    "---\n",
    "__Output option 1 (linear regression)__:\n",
    "$\n",
    "\\hat{y} = w^T x + b\n",
    "$\n",
    "- $\\hat{y}$ not always $\\in [0,1]$ which makes classification awkward\n",
    "\n",
    "---\n",
    "__Output option 2 (logistic regression)__: $\\hat{y} = \\sigma(w^T x + b)$\n",
    "\n",
    " - Provides output in [0,1] for easy binary classification (usually $\\hat{y}>0.5$ designated as class 1 and $\\hat{y}\\leq0.5$ designated as class 0).\n",
    " - Takes advantage of \"sigmoid\" equation $\\sigma(z) = \\frac{1}{1+e^{-z}}$ visualized below.\n",
    "\n"
   ]
  },
  {
   "cell_type": "code",
   "execution_count": 1,
   "metadata": {},
   "outputs": [
    {
     "data": {
      "image/png": "[encoded data removed]",
      "text/plain": [
       "<matplotlib.figure.Figure at 0x25ae5d64278>"
      ]
     },
     "metadata": {},
     "output_type": "display_data"
    }
   ],
   "source": [
    "import matplotlib.pyplot as plt\n",
    "import numpy as np\n",
    "%matplotlib inline\n",
    "\n",
    "#Create z and sigma\n",
    "z = np.linspace(-5,5)\n",
    "sigma = 1/(1+np.exp(-z))\n",
    "\n",
    "#Draw prediction cut-off line\n",
    "plt.axhline(0.5, color='black',ls='--')\n",
    "\n",
    "#Label axis\n",
    "plt.xlabel('z')\n",
    "plt.ylabel(r'$\\hat{y}$')\n",
    "\n",
    "#Plot graph\n",
    "plt.tick_params(axis='x',bottom='off',labelbottom='off')\n",
    "plt.plot(z,sigma,'-',lw=3);"
   ]
  },
  {
   "cell_type": "markdown",
   "metadata": {},
   "source": [
    "### Logistic Regression Loss and Cost Function"
   ]
  },
  {
   "cell_type": "markdown",
   "metadata": {},
   "source": [
    "__Loss Function__:<br><br>\n",
    "For an individual instance, the loss function is:<br>\n",
    "$L(\\hat{y},y) = -(y\\log\\hat{y} + (1-y)\\log(1-\\hat{y}))$\n",
    "<br><br>\n",
    "Intuition: \n",
    "- If y= 1: $L(\\hat{y},y) = -\\log\\hat{y}$ \n",
    "    - Minimizing this will ensure that $\\log\\hat{y}$ is large which will ensure that $\\hat{y}$ is large, i.e. $\\hat{y}$ close to 1.\n",
    "<br>\n",
    "<br>\n",
    "- If y= 0: $L(\\hat{y},y) = -(1-y)\\log(1-\\hat{y})$\n",
    "    - Minimizing this will ensure that $\\log(1-\\hat{y})$ is large which will ensure that $\\hat{y}$ is small, i.e. $\\hat{y}$ close to 0.\n",
    "---    \n",
    "__Cost Function__:<br><br>\n",
    "Across training set, the cost function is:<br>\n",
    "$J(w,b)=-\\frac{1}{m}\\sum[y^{(i)}\\log\\hat{y}^{(i)} + (1-y^{(i)})\\log(1-\\hat{y}^{(i)})]$\n",
    "\n"
   ]
  },
  {
   "cell_type": "markdown",
   "metadata": {},
   "source": [
    "### Gradient Descent"
   ]
  },
  {
   "cell_type": "markdown",
   "metadata": {},
   "source": [
    "J(w,b) is a convex function so gradient descent will not get stuck on a local minimum.\n",
    "\n",
    "---\n",
    "__Gradient Descent Algorithm__:<br><br>\n",
    "For cost function J(w,b) and learning rate $\\alpha$, <br>\n",
    "repeat {<br>\n",
    "    $w:=w-\\alpha\\frac{J(w,b)}{\\partial w}$<br>\n",
    "    $b:=b-\\alpha\\frac{J(w,b)}{\\partial b}$<br>\n",
    "}"
   ]
  },
  {
   "cell_type": "markdown",
   "metadata": {},
   "source": [
    "---\n",
    "## II. Implementing Vectorized Logistic Regression in Python"
   ]
  },
  {
   "cell_type": "markdown",
   "metadata": {},
   "source": [
    "Capital letters indicate a matrix rather than a single training instance."
   ]
  },
  {
   "cell_type": "markdown",
   "metadata": {},
   "source": [
    "### Vectorization"
   ]
  },
  {
   "cell_type": "markdown",
   "metadata": {},
   "source": [
    "Vectorization is the art of removing for loops. For loops are much slower than matrix multiplication.\n",
    "\n",
    "To create the product of W transpose and X, use numpy's .dot(X,Y) function and the .T method for transpose :\n",
    "\n",
    "$z = np.dot(W.T,X) + b$"
   ]
  },
  {
   "cell_type": "markdown",
   "metadata": {},
   "source": [
    "### Parial Derivatives"
   ]
  },
  {
   "cell_type": "markdown",
   "metadata": {},
   "source": [
    "In code, we represent the partial derivatives as follows:<br>\n",
    "$dw=\\frac{J(w,b)}{\\partial w}$<br>\n",
    "$db=\\frac{J(w,b)}{\\partial b}$<br>\n",
    "\n",
    "After taking partial derivatives from a computation graph, we find that $\\frac{J(w,b)}{\\partial z}$ (the chage in cost with respect to z) is equal to:<br>\n",
    "\n",
    "$\\sum_{i=1}^{m}(\\hat{y}^{(i)}-y^{(i)})$\n",
    "\n",
    "And so in code, we will represent this as $dZ$.\n"
   ]
  },
  {
   "cell_type": "markdown",
   "metadata": {},
   "source": [
    "### Single Vectorized Step of Logistic Regression"
   ]
  },
  {
   "cell_type": "markdown",
   "metadata": {},
   "source": [
    "Calculate z:<br>\n",
    "$z = np.dot(W.T,X)+b$<br>\n",
    "\n",
    "Calculate A (convert z to [0,1] range with sigmoid function):<br>\n",
    "$A= \\sigma(z)$<br>\n",
    "\n",
    "Calculate dZ (the change in cost with respect to z):<br>\n",
    "$dZ = A-Y$<br>\n",
    "\n",
    "Calculate w and b (weights and bias):<br>\n",
    "$dw = \\frac{1}{m}XdZ.T$<br>\n",
    "$db = \\frac{1}{m}np.sum(dZ)$"
   ]
  },
  {
   "cell_type": "markdown",
   "metadata": {},
   "source": [
    "---\n",
    "## III. Processing Images for Classification and Array Notes"
   ]
  },
  {
   "cell_type": "markdown",
   "metadata": {},
   "source": [
    "### Image Processing\n",
    "\n",
    "Images are stored as 3 n x m matrices of pixel intensities. To classify them we need to reshape them as a (n x m x 3, 1) array.\n"
   ]
  },
  {
   "cell_type": "code",
   "execution_count": 2,
   "metadata": {},
   "outputs": [
    {
     "name": "stdout",
     "output_type": "stream",
     "text": [
      "Shape of standard image: (64, 100, 3)\n"
     ]
    }
   ],
   "source": [
    "#Create dummy image\n",
    "n=64\n",
    "m=100\n",
    "\n",
    "img = np.random.randn(n,m,3)\n",
    "\n",
    "print('Shape of standard image: {}'.format(img.shape))"
   ]
  },
  {
   "cell_type": "code",
   "execution_count": 3,
   "metadata": {
    "scrolled": true
   },
   "outputs": [
    {
     "name": "stdout",
     "output_type": "stream",
     "text": [
      "Shape of reshaped image: (19200, 1)\n"
     ]
    }
   ],
   "source": [
    "#Prepare for training or classification\n",
    "reshaped_img = img.reshape((img.shape[0]*img.shape[1]*3,1))\n",
    "\n",
    "print('Shape of reshaped image: {}'.format(reshaped_img.shape))"
   ]
  },
  {
   "cell_type": "markdown",
   "metadata": {},
   "source": [
    "### Broadcasting"
   ]
  },
  {
   "cell_type": "markdown",
   "metadata": {},
   "source": [
    "Broadcasting refers to automatic conversion of array shapes to allow for various calculations.\n",
    "\n",
    "Given array of (n,m), adding/substracting/dividing/multiplying by an array or real numbers with various dimensions will convert them as follows:\n",
    "- (1,n) -> (m,n) - Created by copying column m times\n",
    "- (m,1) -> (m,n) - Created by copying row n times\n",
    "- k -> (m,n) - Created by filling a (m,n) matrix with k."
   ]
  },
  {
   "cell_type": "markdown",
   "metadata": {},
   "source": [
    "### Rank 1 Arrays and Assert"
   ]
  },
  {
   "cell_type": "markdown",
   "metadata": {},
   "source": [
    "__Avoid using rank 1 arrays__:<br>\n",
    "These arrays have shape of (n,). Use reshape to give them dimension of (n,1) or (1,n) to avoid tricky bugs in code.\n",
    "\n",
    "E.g. use:<br>\n",
    "X = np.zeros((5,1))\n",
    "\n",
    "Instead of:<br>\n",
    "X = np.zeros(5)\n",
    "\n",
    "__Use assert to check array shape:__<br>\n",
    "assert(X.shape==(5,1))"
   ]
  }
 ],
 "metadata": {
  "kernelspec": {
   "display_name": "Python 3",
   "language": "python",
   "name": "python3"
  },
  "language_info": {
   "codemirror_mode": {
    "name": "ipython",
    "version": 3
   },
   "file_extension": ".py",
   "mimetype": "text/x-python",
   "name": "python",
   "nbconvert_exporter": "python",
   "pygments_lexer": "ipython3",
   "version": "3.6.1"
  }
 },
 "nbformat": 4,
 "nbformat_minor": 2
}
