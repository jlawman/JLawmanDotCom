{
 "cells": [
  {
   "cell_type": "markdown",
   "metadata": {},
   "source": [
    "Below are examples of the theorems proved in Kleinberg's paper (https://www.cs.cornell.edu/home/kleinber/nips15.pdf)"
   ]
  },
  {
   "cell_type": "markdown",
   "metadata": {},
   "source": [
    "### i) Note: \n",
    "Third example is incorrect as it currently stands.\n"
   ]
  },
  {
   "cell_type": "markdown",
   "metadata": {},
   "source": [
    "### ii) Generate data to cluster"
   ]
  },
  {
   "cell_type": "code",
   "execution_count": 1,
   "metadata": {},
   "outputs": [
    {
     "data": {
      "image/png": "[encoded data removed]",
      "text/plain": [
       "<matplotlib.figure.Figure at 0x2b41aee4438>"
      ]
     },
     "metadata": {},
     "output_type": "display_data"
    }
   ],
   "source": [
    "import seaborn as sns \n",
    "import matplotlib.pyplot as plt\n",
    "%matplotlib inline\n",
    "\n",
    "from sklearn.datasets import make_blobs\n",
    "\n",
    "data, labels = make_blobs(n_samples=10, n_features=2, centers=2,cluster_std=3,random_state=5)\n",
    "\n",
    "plt.scatter(data[:,0], data[:,1], c = labels, cmap='coolwarm');"
   ]
  },
  {
   "cell_type": "markdown",
   "metadata": {},
   "source": [
    "## 1. K-Cluster Stopping Condition - Fails Richness Condition"
   ]
  },
  {
   "cell_type": "markdown",
   "metadata": {},
   "source": [
    "__k-cluster stopping condition:__ Stop adding edges when the subgraph first\n",
    "consists of k connected components."
   ]
  },
  {
   "cell_type": "markdown",
   "metadata": {},
   "source": [
    "__Richness condition:__Every partition of S is a possible output. To state this more compactly,\n",
    "let Range(f) denote the set of all partitions Γ such that f(d) = Γ for some distance\n",
    "function d.\n",
    "Richness. Range(f) is equal to the set of all partitions of S.\n",
    "In other words, suppose we are given the names of the points only (i.e. the indices\n",
    "in S) but not the distances between them. Richness requires that for any desired\n",
    "partition Γ, it should be possible to construct a distance function d on S for which\n",
    "f(d) = Γ."
   ]
  },
  {
   "cell_type": "code",
   "execution_count": 2,
   "metadata": {},
   "outputs": [
    {
     "data": {
      "image/png": "[encoded data removed]",
      "text/plain": [
       "<matplotlib.figure.Figure at 0x2b41e0ea0f0>"
      ]
     },
     "metadata": {},
     "output_type": "display_data"
    }
   ],
   "source": [
    "from sklearn.cluster import KMeans\n",
    "\n",
    "kmeans = KMeans(n_clusters=1)\n",
    "kmeans.fit(data)\n",
    "\n",
    "plt.scatter(data[:,0], data[:,1], c = kmeans.labels_, cmap='coolwarm');"
   ]
  },
  {
   "cell_type": "markdown",
   "metadata": {},
   "source": [
    "Given these inputs, no distance function will allow this algorithm to classify the points into any other desired partition. The only partition available is the one given."
   ]
  },
  {
   "cell_type": "markdown",
   "metadata": {},
   "source": [
    "#### Takeaway:\n",
    "This model was unable to provide the various cluster partitions based on different distance functions. It thereby fails the \"richness\" condition. \n",
    "\n",
    "In general, models with k-cluster stopping conditions will be similarly limited by being unable to create all possible partitions given various distance functions."
   ]
  },
  {
   "cell_type": "markdown",
   "metadata": {},
   "source": [
    "## 2.  Distance-r Stopping Condition - Fails Scale-Invariance Condition"
   ]
  },
  {
   "cell_type": "markdown",
   "metadata": {},
   "source": [
    "__Distance-r stopping condition__: Only add edges of weight at most r"
   ]
  },
  {
   "cell_type": "markdown",
   "metadata": {},
   "source": [
    "__Scale-Invariance__: For any distance function d and any α > 0,\n",
    "we have f(d) = f(α · d)."
   ]
  },
  {
   "cell_type": "markdown",
   "metadata": {},
   "source": [
    "####  DBSCAN Example"
   ]
  },
  {
   "cell_type": "markdown",
   "metadata": {},
   "source": [
    "Max r for algorithm = 4"
   ]
  },
  {
   "cell_type": "code",
   "execution_count": 3,
   "metadata": {
    "collapsed": true
   },
   "outputs": [],
   "source": [
    "from sklearn.metrics.pairwise import euclidean_distances\n",
    "from sklearn.cluster import DBSCAN\n",
    "\n",
    "db = DBSCAN(eps=4,metric='precomputed')\n",
    "\n",
    "distance = euclidean_distances(data,data)\n",
    "distance_times_alpha = distance*1.1"
   ]
  },
  {
   "cell_type": "markdown",
   "metadata": {},
   "source": [
    "Euclidean Distance * 1"
   ]
  },
  {
   "cell_type": "code",
   "execution_count": 4,
   "metadata": {},
   "outputs": [
    {
     "data": {
      "image/png": "[encoded data removed]",
      "text/plain": [
       "<matplotlib.figure.Figure at 0x2b41df2e710>"
      ]
     },
     "metadata": {},
     "output_type": "display_data"
    }
   ],
   "source": [
    "db.fit(distance)\n",
    "\n",
    "euc = db.labels_\n",
    "\n",
    "plt.scatter(data[:,0], data[:,1], c = euc, cmap='coolwarm');"
   ]
  },
  {
   "cell_type": "markdown",
   "metadata": {},
   "source": [
    "Euclidean Distance * 1.1"
   ]
  },
  {
   "cell_type": "code",
   "execution_count": 5,
   "metadata": {},
   "outputs": [
    {
     "data": {
      "image/png": "[encoded data removed]",
      "text/plain": [
       "<matplotlib.figure.Figure at 0x2b41e698a58>"
      ]
     },
     "metadata": {},
     "output_type": "display_data"
    }
   ],
   "source": [
    "db.fit(distance*1.1)\n",
    "\n",
    "euc_alpha = db.labels_\n",
    "\n",
    "plt.scatter(data[:,0], data[:,1], c = euc_alpha, cmap='coolwarm');"
   ]
  },
  {
   "cell_type": "code",
   "execution_count": 6,
   "metadata": {},
   "outputs": [
    {
     "data": {
      "text/plain": [
       "array([0, 1, 0, 0, 0, 0, 0, 0, 0, 0], dtype=int64)"
      ]
     },
     "execution_count": 6,
     "metadata": {},
     "output_type": "execute_result"
    }
   ],
   "source": [
    "#-1 or 1 values are differently classified by each model. Data point at i=i was differently classified.\n",
    "euc - euc_alpha"
   ]
  },
  {
   "cell_type": "markdown",
   "metadata": {},
   "source": [
    "#### Takeaway:\n",
    "The model was unable to provide the same clusters based on differently scaled data. It thereby does not have the property of scale invariance.\n",
    "\n",
    "In general, models with distance-r stopping conditions will be similarly sensitive to data which is scaled."
   ]
  },
  {
   "cell_type": "markdown",
   "metadata": {},
   "source": [
    "## 3. Scale-α  Stopping Condition - Fails Consistency Condition"
   ]
  },
  {
   "cell_type": "markdown",
   "metadata": {},
   "source": [
    "__Scale-α stopping condition:__ Let ρ\n",
    "∗ denote the maximum pairwise distance;\n",
    "i.e. ρ\n",
    "∗ = maxi,j d(i, j). Only add edges of weight at most αρ∗\n",
    "\n",
    "__Consistency condition:__ Consistency. Let d and d0 be two distance functions. If f(d) = Γ,\n",
    "and d0\n",
    "is a Γ-transformation of d, then f(d0\n",
    ") = Γ."
   ]
  },
  {
   "cell_type": "markdown",
   "metadata": {},
   "source": [
    "####  Agglomerative Clustering Example"
   ]
  },
  {
   "cell_type": "code",
   "execution_count": 7,
   "metadata": {
    "collapsed": true
   },
   "outputs": [],
   "source": [
    "from sklearn.cluster import AgglomerativeClustering"
   ]
  },
  {
   "cell_type": "code",
   "execution_count": 8,
   "metadata": {},
   "outputs": [
    {
     "data": {
      "image/png": "[encoded data removed]",
      "text/plain": [
       "<matplotlib.figure.Figure at 0x2b41e727518>"
      ]
     },
     "metadata": {},
     "output_type": "display_data"
    }
   ],
   "source": [
    "agg_model_euclidean = AgglomerativeClustering(n_clusters=2,affinity='euclidean',linkage='complete')\n",
    "\n",
    "agg_model_euclidean.fit(data)\n",
    "\n",
    "plt.scatter(data[:,0], data[:,1], c = agg_model_euclidean.labels_, cmap='coolwarm');"
   ]
  },
  {
   "cell_type": "code",
   "execution_count": 9,
   "metadata": {},
   "outputs": [
    {
     "data": {
      "image/png": "[encoded data removed]",
      "text/plain": [
       "<matplotlib.figure.Figure at 0x2b41ccd2cf8>"
      ]
     },
     "metadata": {},
     "output_type": "display_data"
    }
   ],
   "source": [
    "agg_model_manhattan = AgglomerativeClustering(n_clusters=2,affinity='manhattan',linkage='complete')\n",
    "\n",
    "agg_model_manhattan.fit(data)\n",
    "\n",
    "plt.scatter(data[:,0], data[:,1], c = agg_model_manhattan.labels_, cmap='coolwarm');"
   ]
  },
  {
   "cell_type": "code",
   "execution_count": 10,
   "metadata": {},
   "outputs": [
    {
     "data": {
      "text/plain": [
       "array([-1,  0,  0, -1,  0,  0,  0,  0,  0,  0], dtype=int64)"
      ]
     },
     "execution_count": 10,
     "metadata": {},
     "output_type": "execute_result"
    }
   ],
   "source": [
    "#-1 or 1 values are differently classified by each model. Data points at i=0 and i=3 were differently classified.\n",
    "agg_model_euclidean.labels_-agg_model_manhattan.labels_"
   ]
  },
  {
   "cell_type": "markdown",
   "metadata": {},
   "source": [
    "#### Takeaway:\n",
    "The model was unable to provide the same clusters based on different distance metrics.\n",
    "\n",
    "In general, models with Scale-α stopping conditions will be similarly sensitive to distances which are transformed."
   ]
  }
 ],
 "metadata": {
  "kernelspec": {
   "display_name": "Python 3",
   "language": "python",
   "name": "python3"
  },
  "language_info": {
   "codemirror_mode": {
    "name": "ipython",
    "version": 3
   },
   "file_extension": ".py",
   "mimetype": "text/x-python",
   "name": "python",
   "nbconvert_exporter": "python",
   "pygments_lexer": "ipython3",
   "version": "3.6.1"
  }
 },
 "nbformat": 4,
 "nbformat_minor": 2
}
