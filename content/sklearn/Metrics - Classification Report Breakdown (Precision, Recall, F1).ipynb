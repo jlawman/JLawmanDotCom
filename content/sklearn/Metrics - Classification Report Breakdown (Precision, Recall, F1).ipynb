{
 "cells": [
  {
   "cell_type": "markdown",
   "metadata": {},
   "source": [
    "1. Create Dummy Data for Classification\n",
    "2. Classify Dummy Data\n",
    "3. Breakdown of Metrics Included in Classification Report\n",
    "4. List of Other Classification Metrics Available in sklearn.metrics"
   ]
  },
  {
   "cell_type": "markdown",
   "metadata": {},
   "source": [
    "### 1. Create Dummy Data for Classification"
   ]
  },
  {
   "cell_type": "code",
   "execution_count": 1,
   "metadata": {},
   "outputs": [
    {
     "data": {
      "image/png": "[encoded data removed]",
      "text/plain": [
       "<matplotlib.figure.Figure at 0x1c7c94b1dd8>"
      ]
     },
     "metadata": {},
     "output_type": "display_data"
    }
   ],
   "source": [
    "import seaborn as sns \n",
    "import matplotlib.pyplot as plt\n",
    "%matplotlib inline\n",
    "\n",
    "from sklearn.datasets import make_blobs\n",
    "\n",
    "data, labels = make_blobs(n_samples=100, n_features=2, centers=2,cluster_std=4,random_state=2)\n",
    "\n",
    "plt.scatter(data[:,0], data[:,1], c = labels, cmap='coolwarm');"
   ]
  },
  {
   "cell_type": "markdown",
   "metadata": {},
   "source": [
    "### 2. Classify Data"
   ]
  },
  {
   "cell_type": "code",
   "execution_count": 2,
   "metadata": {},
   "outputs": [],
   "source": [
    "#Import LinearSVC\n",
    "from sklearn.svm import LinearSVC\n",
    "\n",
    "#Create instance of Support Vector Classifier\n",
    "svc = LinearSVC()\n",
    "\n",
    "#Fit estimator to 70% of the data\n",
    "svc.fit(data[:70], labels[:70])\n",
    "\n",
    "#Predict final 30%\n",
    "y_pred = svc.predict(data[70:])\n",
    "\n",
    "#Establish true y values\n",
    "y_true = labels[70:]"
   ]
  },
  {
   "cell_type": "markdown",
   "metadata": {},
   "source": [
    "### 3. Breakdown of Metrics Included in Classification Report"
   ]
  },
  {
   "cell_type": "markdown",
   "metadata": {},
   "source": [
    "#### Precision Score\n",
    "\n",
    "TP - True Positives<br>\n",
    "FP - False Positives<br>\n",
    "\n",
    "Precision - Accuracy of positive predictions.<br>\n",
    "Precision = TP/(TP + FP)"
   ]
  },
  {
   "cell_type": "code",
   "execution_count": 3,
   "metadata": {},
   "outputs": [
    {
     "name": "stdout",
     "output_type": "stream",
     "text": [
      "Precision score: 0.9285714285714286\n"
     ]
    }
   ],
   "source": [
    "from sklearn.metrics import precision_score\n",
    "\n",
    "print(\"Precision score: {}\".format(precision_score(y_true,y_pred)))"
   ]
  },
  {
   "cell_type": "markdown",
   "metadata": {},
   "source": [
    "#### Recall Score\n",
    "\n",
    "FN - False Negatives<br>\n",
    "\n",
    "Recall (aka sensitivity or true positive rate): Fraction of positives That were correctly identified.<br>\n",
    "Recall = TP/(TP+FN)"
   ]
  },
  {
   "cell_type": "code",
   "execution_count": 4,
   "metadata": {},
   "outputs": [
    {
     "name": "stdout",
     "output_type": "stream",
     "text": [
      "Recall score: 0.8666666666666667\n"
     ]
    }
   ],
   "source": [
    "from sklearn.metrics import recall_score\n",
    "\n",
    "print(\"Recall score: {}\".format(recall_score(y_true,y_pred)))"
   ]
  },
  {
   "cell_type": "markdown",
   "metadata": {},
   "source": [
    "#### F1 Score\n",
    "\n",
    "F1 Score (aka F-Score or F-Measure) - A helpful metric for comparing two classifiers. F1 Score takes into account precision and the recall. It is created by finding the the harmonic mean of precision and recall. \n",
    "\n",
    "F1 = 2 x (precision x recall)/(precision + recall)"
   ]
  },
  {
   "cell_type": "code",
   "execution_count": 5,
   "metadata": {},
   "outputs": [
    {
     "name": "stdout",
     "output_type": "stream",
     "text": [
      "F1 Score: 0.896551724137931\n"
     ]
    }
   ],
   "source": [
    "from sklearn.metrics import f1_score\n",
    "\n",
    "print(\"F1 Score: {}\".format(f1_score(y_true,y_pred)))"
   ]
  },
  {
   "cell_type": "markdown",
   "metadata": {},
   "source": [
    "#### Classification Report\n",
    "\n",
    "Report which includes Precision, Recall and F1-Score."
   ]
  },
  {
   "cell_type": "code",
   "execution_count": 6,
   "metadata": {},
   "outputs": [
    {
     "name": "stdout",
     "output_type": "stream",
     "text": [
      "             precision    recall  f1-score   support\n",
      "\n",
      "          0       0.88      0.93      0.90        15\n",
      "          1       0.93      0.87      0.90        15\n",
      "\n",
      "avg / total       0.90      0.90      0.90        30\n",
      "\n"
     ]
    }
   ],
   "source": [
    "from sklearn.metrics import classification_report\n",
    "\n",
    "print(classification_report(y_true,y_pred))"
   ]
  },
  {
   "cell_type": "markdown",
   "metadata": {},
   "source": [
    "#### Confusion Matrix\n",
    "Confusion matrix allows you to look at the particular misclassified examples yourself and perform any further calculations as desired."
   ]
  },
  {
   "cell_type": "code",
   "execution_count": 7,
   "metadata": {},
   "outputs": [
    {
     "name": "stdout",
     "output_type": "stream",
     "text": [
      "         Predicted Class 0  Predicted Class 1\n",
      "Class 0                 14                  1\n",
      "Class 1                  2                 13\n"
     ]
    }
   ],
   "source": [
    "from sklearn.metrics import confusion_matrix\n",
    "import pandas as pd\n",
    "\n",
    "confusion_df = pd.DataFrame(confusion_matrix(y_true,y_pred),\n",
    "             columns=[\"Predicted Class \" + str(class_name) for class_name in [0,1]],\n",
    "             index = [\"Class \" + str(class_name) for class_name in [0,1]])\n",
    "\n",
    "print(confusion_df)"
   ]
  },
  {
   "cell_type": "markdown",
   "metadata": {},
   "source": [
    "### 4. List of Other Classification Metrics Available in sklearn.metrics\n",
    "\n",
    "- accuracy_score\n",
    "- auc\n",
    "- average_precision_score\n",
    "- brier_score_loss\n",
    "- cohen_kappa_score\n",
    "- dcg_score\n",
    "- fbeta_score\n",
    "- hamming_loss        \n",
    "- hinge_loss       \n",
    "- jaccard_similarity_score        \n",
    "- log_loss\n",
    "- matthews_corrcoef \n",
    "- ndcg_score\n",
    "- precision_recall_curve       \n",
    "- precision_recall_fscore_support   \n",
    "- roc_auc_score      \n",
    "- roc_curve        \n",
    "- zero_one_loss    \n",
    "\n",
    "sklearn.metrics also offers Regression Metrics, Model Selection Scorer, Multilabel ranking metrics, Clustering Metrics, Biclustering metrics, and Pairwise metrics."
   ]
  }
 ],
 "metadata": {
  "kernelspec": {
   "display_name": "Python 3",
   "language": "python",
   "name": "python3"
  },
  "language_info": {
   "codemirror_mode": {
    "name": "ipython",
    "version": 3
   },
   "file_extension": ".py",
   "mimetype": "text/x-python",
   "name": "python",
   "nbconvert_exporter": "python",
   "pygments_lexer": "ipython3",
   "version": "3.6.1"
  }
 },
 "nbformat": 4,
 "nbformat_minor": 2
}
